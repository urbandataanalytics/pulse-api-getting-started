{
 "cells": [
  {
   "cell_type": "markdown",
   "id": "6cd09b70-ee80-440b-911b-56f932cc1609",
   "metadata": {},
   "source": [
    "# Securing your account\n",
    "\n",
    "https://docs.urbandataanalytics.com/#section/Securing-Access"
   ]
  },
  {
   "cell_type": "markdown",
   "id": "e4a3ac76-5670-40e3-a1f6-33c9fdae2dbe",
   "metadata": {},
   "source": [
    "## Create a new Application/Consumer"
   ]
  },
  {
   "cell_type": "code",
   "execution_count": 7,
   "id": "f5da45bc-6098-4833-836a-d0623fbc818f",
   "metadata": {},
   "outputs": [
    {
     "name": "stdout",
     "output_type": "stream",
     "text": [
      "{\"message\": \"Verification token sent. Check your email.\", \"consumer_id\": \"ec8986cb-286c-4d54-aa25-37e7ef413f82\", \"verified\": false}\n"
     ]
    }
   ],
   "source": [
    "import requests\n",
    "import json\n",
    "import uuid\n",
    "\n",
    "from settings import env\n",
    "\n",
    "url = f\"{env.PROXY}/api/backoffice/v1/app/create\"\n",
    "\n",
    "id = str(uuid.uuid4())[:5]\n",
    "\n",
    "payload = json.dumps({\n",
    "  \"name\": f\"Application {id}\",\n",
    "  \"description\": \"My web app\"\n",
    "})\n",
    "\n",
    "headers = {\n",
    "  'Authorization': env.API_KEY,\n",
    "}\n",
    "\n",
    "response = requests.post( url, headers=headers, data=payload)\n",
    "\n",
    "response.json()"
   ]
  },
  {
   "cell_type": "markdown",
   "id": "e35c5ffb-5bdf-456d-91ca-db61d68aceee",
   "metadata": {},
   "source": [
    "## List Applications/Consumers"
   ]
  },
  {
   "cell_type": "code",
   "execution_count": 10,
   "id": "d07872a5-1c29-41f1-9134-c886e94ec6be",
   "metadata": {
    "scrolled": true
   },
   "outputs": [
    {
     "data": {
      "text/plain": [
       "[{'consumer_id': '0fd73c1d-ab5f-4893-ab31-6d60d9c8f57a',\n",
       "  'name': 'Application A',\n",
       "  'description': None,\n",
       "  'created_at': '2024-03-13T18:19:53.284000',\n",
       "  'is_verified': False,\n",
       "  'is_revoked': False},\n",
       " {'consumer_id': '2629a8a6-184b-42c3-87c0-6b898fefc66e',\n",
       "  'name': 'Test 1',\n",
       "  'description': None,\n",
       "  'created_at': '2024-04-11T14:04:19.243000',\n",
       "  'is_verified': False,\n",
       "  'is_revoked': False},\n",
       " {'consumer_id': 'fe5b2100-71ce-474e-b5b3-4cd519e85472',\n",
       "  'name': 'Test 10',\n",
       "  'description': None,\n",
       "  'created_at': '2024-04-11T14:06:22.938000',\n",
       "  'is_verified': False,\n",
       "  'is_revoked': False},\n",
       " {'consumer_id': 'e045e314-74ef-4a9b-9eb4-51acfd6719b9',\n",
       "  'name': 'Test 11',\n",
       "  'description': None,\n",
       "  'created_at': '2024-04-11T14:32:23.132000',\n",
       "  'is_verified': False,\n",
       "  'is_revoked': False},\n",
       " {'consumer_id': 'b7cbfb22-09b5-4090-bba5-5fb1329d349e',\n",
       "  'name': 'Test 12',\n",
       "  'description': None,\n",
       "  'created_at': '2024-04-11T14:32:37.537000',\n",
       "  'is_verified': False,\n",
       "  'is_revoked': False},\n",
       " {'consumer_id': '403b68bc-5616-4130-8b8a-588eae44d0fc',\n",
       "  'name': 'Test 13',\n",
       "  'description': None,\n",
       "  'created_at': '2024-04-11T14:32:48.309000',\n",
       "  'is_verified': False,\n",
       "  'is_revoked': False},\n",
       " {'consumer_id': 'f0fd76af-a172-45a3-8865-5235da77bddb',\n",
       "  'name': 'Test 14',\n",
       "  'description': None,\n",
       "  'created_at': '2024-04-11T14:33:23.818000',\n",
       "  'is_verified': True,\n",
       "  'is_revoked': False},\n",
       " {'consumer_id': '16ac746e-c157-469e-ac84-8d0caf1608e0',\n",
       "  'name': 'Test 15',\n",
       "  'description': None,\n",
       "  'created_at': '2024-04-11T14:39:14.418000',\n",
       "  'is_verified': True,\n",
       "  'is_revoked': False},\n",
       " {'consumer_id': 'ec8986cb-286c-4d54-aa25-37e7ef413f82',\n",
       "  'name': 'Application 0ea06',\n",
       "  'description': 'My web app',\n",
       "  'created_at': '2024-06-05T07:36:07.039000',\n",
       "  'is_verified': False,\n",
       "  'is_revoked': False}]"
      ]
     },
     "execution_count": 10,
     "metadata": {},
     "output_type": "execute_result"
    }
   ],
   "source": [
    "url = f\"{env.PROXY}/api/backoffice/v1/app/list\"\n",
    "\n",
    "headers = {\n",
    "  'Authorization': env.API_KEY\n",
    "}\n",
    "\n",
    "response = requests.get(url, headers=headers)\n",
    "\n",
    "response.json()"
   ]
  },
  {
   "cell_type": "markdown",
   "id": "8e4ab817-9587-4452-ae1a-a1922a49b282",
   "metadata": {},
   "source": [
    "## Rotate Consumer Secrets"
   ]
  },
  {
   "cell_type": "code",
   "execution_count": 36,
   "id": "7338beb6-f3e4-46e9-a118-60b345c05602",
   "metadata": {},
   "outputs": [
    {
     "data": {
      "text/plain": [
       "{'email': 'felipe.horta@udarealestate.com',\n",
       " 'company': 'uDA',\n",
       " 'name': 'Test 15',\n",
       " 'consumer_id': '16ac746e-c157-469e-ac84-8d0caf1608e0',\n",
       " 'description': None,\n",
       " 'secret': '65e1eacc-6bb6-44c0-9748-7f66f1cf1370',\n",
       " 'created_at': '2024-04-11T14:39:14.418000',\n",
       " 'is_verified': True,\n",
       " 'is_revoked': False}"
      ]
     },
     "execution_count": 36,
     "metadata": {},
     "output_type": "execute_result"
    }
   ],
   "source": [
    "consumer_id = \"16ac746e-c157-469e-ac84-8d0caf1608e0\"\n",
    "\n",
    "url = f\"{env.PROXY}/api/backoffice/v1/app/rotate-secret?consumer_id={consumer_id}\"\n",
    "\n",
    "headers = {\n",
    "  'Authorization': env.API_KEY\n",
    "}\n",
    "\n",
    "response = requests.post(url, headers=headers)\n",
    "\n",
    "response.json()"
   ]
  },
  {
   "cell_type": "markdown",
   "id": "25fbe505-c422-4a28-bd88-3abd2c266a82",
   "metadata": {},
   "source": [
    "## Revoke Consumer Application"
   ]
  },
  {
   "cell_type": "code",
   "execution_count": 26,
   "id": "15f47b16-4d32-4e69-b7a0-5f0505a2b49d",
   "metadata": {
    "scrolled": true
   },
   "outputs": [
    {
     "data": {
      "text/plain": [
       "{'email': 'felipe.horta@udarealestate.com',\n",
       " 'company': 'uDA',\n",
       " 'name': 'Test 15',\n",
       " 'consumer_id': '16ac746e-c157-469e-ac84-8d0caf1608e0',\n",
       " 'description': None,\n",
       " 'created_at': '2024-04-11T14:39:14.418000',\n",
       " 'is_verified': True,\n",
       " 'is_revoked': True}"
      ]
     },
     "execution_count": 26,
     "metadata": {},
     "output_type": "execute_result"
    }
   ],
   "source": [
    "consumer_id = \"16ac746e-c157-469e-ac84-8d0caf1608e0\"\n",
    "\n",
    "url = f\"{env.PROXY}/api/backoffice/v1/app/revoke?consumer_id={consumer_id}\"\n",
    "\n",
    "payload = {}\n",
    "\n",
    "headers = {\n",
    "  'Authorization': env.API_KEY,\n",
    "}\n",
    "\n",
    "response = requests.post(url, headers=headers)\n",
    "\n",
    "response.json()"
   ]
  },
  {
   "cell_type": "markdown",
   "id": "039bc84d-2bb6-4402-bb5f-7b45066ed5c2",
   "metadata": {},
   "source": [
    "## Activate Consumer Application"
   ]
  },
  {
   "cell_type": "code",
   "execution_count": 29,
   "id": "1fa67337-62da-4e08-8eeb-15bb2d9f44c6",
   "metadata": {
    "scrolled": true
   },
   "outputs": [
    {
     "data": {
      "text/plain": [
       "{'email': 'felipe.horta@udarealestate.com',\n",
       " 'company': 'uDA',\n",
       " 'name': 'Test 15',\n",
       " 'consumer_id': '16ac746e-c157-469e-ac84-8d0caf1608e0',\n",
       " 'description': None,\n",
       " 'created_at': '2024-04-11T14:39:14.418000',\n",
       " 'is_verified': True,\n",
       " 'is_revoked': False}"
      ]
     },
     "execution_count": 29,
     "metadata": {},
     "output_type": "execute_result"
    }
   ],
   "source": [
    "consumer_id = \"16ac746e-c157-469e-ac84-8d0caf1608e0\"\n",
    "\n",
    "url = f\"{env.PROXY}/api/backoffice/v1/app/activate?consumer_id={consumer_id}\"\n",
    "\n",
    "payload = {}\n",
    "\n",
    "headers = {\n",
    "  'Authorization': env.API_KEY,\n",
    "}\n",
    "\n",
    "response = requests.post(url, headers=headers)\n",
    "\n",
    "response.json()"
   ]
  },
  {
   "cell_type": "code",
   "execution_count": 30,
   "id": "7fc1b07e-13e9-4c6a-b25d-ed9cc483d709",
   "metadata": {},
   "outputs": [
    {
     "data": {
      "text/plain": [
       "'912cf1be-016f-4ffd-b41f-aaaf6f8033bf'"
      ]
     },
     "execution_count": 30,
     "metadata": {},
     "output_type": "execute_result"
    }
   ],
   "source": [
    "env.API_KEY"
   ]
  },
  {
   "cell_type": "markdown",
   "id": "025de87b-6549-4021-b430-e79885b7254e",
   "metadata": {},
   "source": [
    "## Rotate your master API Key frequently"
   ]
  },
  {
   "cell_type": "code",
   "execution_count": 31,
   "id": "2dd9e7da-83fb-457d-b3e0-db57f963525e",
   "metadata": {
    "scrolled": true
   },
   "outputs": [
    {
     "data": {
      "text/plain": [
       "{'name': '',\n",
       " 'surname': '',\n",
       " 'email': 'felipe.horta@udarealestate.com',\n",
       " 'is_active': True,\n",
       " 'company': 'uDA',\n",
       " 'api_key': '612c226b-2300-4d9a-80d7-04319baf869e'}"
      ]
     },
     "execution_count": 31,
     "metadata": {},
     "output_type": "execute_result"
    }
   ],
   "source": [
    "url = f\"{env.PROXY}/api/backoffice/v1/users/rotate-key\"\n",
    "\n",
    "payload = {}\n",
    "\n",
    "headers = {\n",
    "  'Authorization': 'YOUR_API_KEY',\n",
    "}\n",
    "\n",
    "response = requests.post(url, headers=headers)\n",
    "\n",
    "response.json()"
   ]
  },
  {
   "cell_type": "markdown",
   "id": "a5a9e563-e295-47be-bc85-b76773535d2e",
   "metadata": {},
   "source": [
    "## Obtaining an Access Token"
   ]
  },
  {
   "cell_type": "code",
   "execution_count": 38,
   "id": "79ad8036-8969-4a25-9785-ed91086f4659",
   "metadata": {},
   "outputs": [
    {
     "data": {
      "text/plain": [
       "{'detail': 'User is not registered.'}"
      ]
     },
     "execution_count": 38,
     "metadata": {},
     "output_type": "execute_result"
    }
   ],
   "source": [
    "url = f\"{env.PROXY}/api/backoffice/v1/create-token\"\n",
    "\n",
    "consumer_id = \"16ac746e-XXXX-ac84-8d0caf1608e0\"\n",
    "consumer_secret = \"5b46d2c8XXXX-5cbc8a9629e5\"\n",
    "\n",
    "payload = {}\n",
    "headers = {\n",
    "  'x-consumer-id': consumer_id,\n",
    "  'x-consumer-secret': consumer_secret,\n",
    "}\n",
    "\n",
    "response = requests.request(\"POST\", url, headers=headers, data=payload)\n",
    "\n",
    "response.json()"
   ]
  }
 ],
 "metadata": {
  "kernelspec": {
   "display_name": "Python 3 (ipykernel)",
   "language": "python",
   "name": "python3"
  },
  "language_info": {
   "codemirror_mode": {
    "name": "ipython",
    "version": 3
   },
   "file_extension": ".py",
   "mimetype": "text/x-python",
   "name": "python",
   "nbconvert_exporter": "python",
   "pygments_lexer": "ipython3",
   "version": "3.10.13"
  }
 },
 "nbformat": 4,
 "nbformat_minor": 5
}
