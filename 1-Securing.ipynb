{
 "cells": [
  {
   "cell_type": "markdown",
   "id": "6cd09b70-ee80-440b-911b-56f932cc1609",
   "metadata": {},
   "source": [
    "# Securing your account\n",
    "\n",
    "https://docs.urbandataanalytics.com/#section/Securing-Access"
   ]
  },
  {
   "cell_type": "markdown",
   "id": "e4a3ac76-5670-40e3-a1f6-33c9fdae2dbe",
   "metadata": {},
   "source": [
    "## Create a new Application/Consumer"
   ]
  },
  {
   "cell_type": "code",
   "execution_count": null,
   "id": "f5da45bc-6098-4833-836a-d0623fbc818f",
   "metadata": {},
   "outputs": [],
   "source": [
    "import requests\n",
    "import json\n",
    "import uuid\n",
    "\n",
    "from settings import env\n",
    "\n",
    "url = f\"{env.PROXY}/api/backoffice/v1/app/create\"\n",
    "\n",
    "id = str(uuid.uuid4())[:5]\n",
    "\n",
    "payload = json.dumps({\n",
    "  \"name\": f\"Application {id}\",\n",
    "  \"description\": \"My web app\"\n",
    "})\n",
    "\n",
    "headers = {\n",
    "  'Authorization': env.API_KEY,\n",
    "}\n",
    "\n",
    "response = requests.post( url, headers=headers, data=payload)\n",
    "\n",
    "response.json()"
   ]
  },
  {
   "cell_type": "markdown",
   "id": "e35c5ffb-5bdf-456d-91ca-db61d68aceee",
   "metadata": {},
   "source": [
    "## List Applications/Consumers"
   ]
  },
  {
   "cell_type": "code",
   "execution_count": null,
   "id": "d07872a5-1c29-41f1-9134-c886e94ec6be",
   "metadata": {},
   "outputs": [],
   "source": [
    "url = f\"{env.PROXY}/api/backoffice/v1/app/list\"\n",
    "\n",
    "headers = {\n",
    "  'Authorization': env.API_KEY\n",
    "}\n",
    "\n",
    "response = requests.get(url, headers=headers)\n",
    "\n",
    "response.json()"
   ]
  },
  {
   "cell_type": "markdown",
   "id": "8e4ab817-9587-4452-ae1a-a1922a49b282",
   "metadata": {},
   "source": [
    "## Rotate Consumer Secrets"
   ]
  },
  {
   "cell_type": "code",
   "execution_count": null,
   "id": "7338beb6-f3e4-46e9-a118-60b345c05602",
   "metadata": {},
   "outputs": [],
   "source": [
    "consumer_id = \"6101a6e2-51fc-4a73-9c29-7df4e3a54d81\"\n",
    "\n",
    "url = f\"{env.PROXY}/api/backoffice/v1/app/rotate-secret?consumer_id={consumer_id}\"\n",
    "\n",
    "headers = {\n",
    "  'Authorization': env.API_KEY\n",
    "}\n",
    "\n",
    "response = requests.post(url, headers=headers)\n",
    "\n",
    "response.json()"
   ]
  },
  {
   "cell_type": "markdown",
   "id": "25fbe505-c422-4a28-bd88-3abd2c266a82",
   "metadata": {},
   "source": [
    "## Revoke Consumer Application"
   ]
  },
  {
   "cell_type": "code",
   "execution_count": null,
   "id": "15f47b16-4d32-4e69-b7a0-5f0505a2b49d",
   "metadata": {
    "scrolled": true
   },
   "outputs": [],
   "source": [
    "consumer_id = \"16ac746e-c157-469e-ac84-8d0caf1608e0\"\n",
    "\n",
    "url = f\"{env.PROXY}/api/backoffice/v1/app/revoke?consumer_id={consumer_id}\"\n",
    "\n",
    "payload = {}\n",
    "\n",
    "headers = {\n",
    "  'Authorization': env.API_KEY,\n",
    "}\n",
    "\n",
    "response = requests.post(url, headers=headers)\n",
    "\n",
    "response.json()"
   ]
  },
  {
   "cell_type": "markdown",
   "id": "039bc84d-2bb6-4402-bb5f-7b45066ed5c2",
   "metadata": {},
   "source": [
    "## Activate Consumer Application"
   ]
  },
  {
   "cell_type": "code",
   "execution_count": null,
   "id": "1fa67337-62da-4e08-8eeb-15bb2d9f44c6",
   "metadata": {
    "scrolled": true
   },
   "outputs": [],
   "source": [
    "consumer_id = \"16ac746e-c157-469e-ac84-8d0caf1608e0\"\n",
    "\n",
    "url = f\"{env.PROXY}/api/backoffice/v1/app/activate?consumer_id={consumer_id}\"\n",
    "\n",
    "payload = {}\n",
    "\n",
    "headers = {\n",
    "  'Authorization': env.API_KEY,\n",
    "}\n",
    "\n",
    "response = requests.post(url, headers=headers)\n",
    "\n",
    "response.json()"
   ]
  },
  {
   "cell_type": "code",
   "execution_count": null,
   "id": "7fc1b07e-13e9-4c6a-b25d-ed9cc483d709",
   "metadata": {},
   "outputs": [],
   "source": [
    "env.API_KEY"
   ]
  },
  {
   "cell_type": "markdown",
   "id": "025de87b-6549-4021-b430-e79885b7254e",
   "metadata": {},
   "source": [
    "## Rotate your master API Key frequently"
   ]
  },
  {
   "cell_type": "code",
   "execution_count": null,
   "id": "2dd9e7da-83fb-457d-b3e0-db57f963525e",
   "metadata": {
    "scrolled": true
   },
   "outputs": [],
   "source": [
    "url = f\"{env.PROXY}/api/backoffice/v1/users/rotate-key\"\n",
    "\n",
    "payload = {}\n",
    "\n",
    "headers = {\n",
    "  'Authorization': 'YOUR_API_KEY',\n",
    "}\n",
    "\n",
    "response = requests.post(url, headers=headers)\n",
    "\n",
    "response.json()"
   ]
  },
  {
   "cell_type": "markdown",
   "id": "a5a9e563-e295-47be-bc85-b76773535d2e",
   "metadata": {},
   "source": [
    "## Obtaining an Access Token"
   ]
  },
  {
   "cell_type": "code",
   "execution_count": null,
   "id": "79ad8036-8969-4a25-9785-ed91086f4659",
   "metadata": {},
   "outputs": [],
   "source": [
    "url = f\"{env.PROXY}/api/backoffice/v1/create-token\"\n",
    "\n",
    "consumer_id = \"16ac746e-XXXX-ac84-8d0caf1608e0\"\n",
    "consumer_secret = \"5b46d2c8XXXX-5cbc8a9629e5\"\n",
    "\n",
    "payload = {}\n",
    "headers = {\n",
    "  'x-consumer-id': consumer_id,\n",
    "  'x-consumer-secret': consumer_secret,\n",
    "}\n",
    "\n",
    "response = requests.request(\"POST\", url, headers=headers, data=payload)\n",
    "\n",
    "response.json()"
   ]
  }
 ],
 "metadata": {
  "kernelspec": {
   "display_name": "Python 3 (ipykernel)",
   "language": "python",
   "name": "python3"
  },
  "language_info": {
   "codemirror_mode": {
    "name": "ipython",
    "version": 3
   },
   "file_extension": ".py",
   "mimetype": "text/x-python",
   "name": "python",
   "nbconvert_exporter": "python",
   "pygments_lexer": "ipython3",
   "version": "3.10.13"
  }
 },
 "nbformat": 4,
 "nbformat_minor": 5
}
