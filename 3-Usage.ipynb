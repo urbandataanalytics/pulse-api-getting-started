{
 "cells": [
  {
   "cell_type": "markdown",
   "id": "3162f0ea-09cb-4501-8512-0fdc345e1a8f",
   "metadata": {},
   "source": [
    "## Checking usage by month"
   ]
  },
  {
   "cell_type": "code",
   "execution_count": 7,
   "id": "12fea52d-df87-4a84-be69-cf236733b188",
   "metadata": {},
   "outputs": [
    {
     "data": {
      "text/html": [
       "<div>\n",
       "<style scoped>\n",
       "    .dataframe tbody tr th:only-of-type {\n",
       "        vertical-align: middle;\n",
       "    }\n",
       "\n",
       "    .dataframe tbody tr th {\n",
       "        vertical-align: top;\n",
       "    }\n",
       "\n",
       "    .dataframe thead tr th {\n",
       "        text-align: left;\n",
       "    }\n",
       "\n",
       "    .dataframe thead tr:last-of-type th {\n",
       "        text-align: right;\n",
       "    }\n",
       "</style>\n",
       "<table border=\"1\" class=\"dataframe\">\n",
       "  <thead>\n",
       "    <tr>\n",
       "      <th></th>\n",
       "      <th></th>\n",
       "      <th></th>\n",
       "      <th>request_count</th>\n",
       "    </tr>\n",
       "    <tr>\n",
       "      <th></th>\n",
       "      <th></th>\n",
       "      <th>start_time</th>\n",
       "      <th>2024-06</th>\n",
       "    </tr>\n",
       "    <tr>\n",
       "      <th>entity</th>\n",
       "      <th>interval</th>\n",
       "      <th>endpoint</th>\n",
       "      <th></th>\n",
       "    </tr>\n",
       "  </thead>\n",
       "  <tbody>\n",
       "    <tr>\n",
       "      <th>Cerberus</th>\n",
       "      <th>month</th>\n",
       "      <th>/api/integration/v2/comparables/search/advanced</th>\n",
       "      <td>1</td>\n",
       "    </tr>\n",
       "  </tbody>\n",
       "</table>\n",
       "</div>"
      ],
      "text/plain": [
       "                                                                  request_count\n",
       "start_time                                                              2024-06\n",
       "entity   interval endpoint                                                     \n",
       "Cerberus month    /api/integration/v2/comparables/search/advanced             1"
      ]
     },
     "execution_count": 7,
     "metadata": {},
     "output_type": "execute_result"
    }
   ],
   "source": [
    "import requests\n",
    "import json\n",
    "import uuid\n",
    "\n",
    "import pandas as pd\n",
    "\n",
    "from settings import env\n",
    "\n",
    "url = f\"{env.PROXY}/api/backoffice/v1/usage/month/company\"\n",
    "\n",
    "headers = {\n",
    "  'Authorization': env.API_KEY,\n",
    "}\n",
    "\n",
    "# filter by email and/or endpoint using regex / like query\n",
    "params = dict(\n",
    "    endpoint='integration*',\n",
    ")\n",
    "    \n",
    "response = requests.get(url, headers=headers, params=params)\n",
    "\n",
    "df = pd.DataFrame(response.json(),)\n",
    "\n",
    "df.set_index(['entity', 'interval', 'endpoint', 'start_time']).unstack('start_time')"
   ]
  },
  {
   "cell_type": "markdown",
   "id": "6722f4f8-5b34-4745-91a2-9fc0aa18d2c0",
   "metadata": {},
   "source": [
    "## Check usage limits"
   ]
  },
  {
   "cell_type": "code",
   "execution_count": 8,
   "id": "4c81bbbf-98fc-4f02-a246-0ef1ac5a1fd4",
   "metadata": {},
   "outputs": [
    {
     "data": {
      "text/html": [
       "<div>\n",
       "<style scoped>\n",
       "    .dataframe tbody tr th:only-of-type {\n",
       "        vertical-align: middle;\n",
       "    }\n",
       "\n",
       "    .dataframe tbody tr th {\n",
       "        vertical-align: top;\n",
       "    }\n",
       "\n",
       "    .dataframe thead tr th {\n",
       "        text-align: left;\n",
       "    }\n",
       "\n",
       "    .dataframe thead tr:last-of-type th {\n",
       "        text-align: right;\n",
       "    }\n",
       "</style>\n",
       "<table border=\"1\" class=\"dataframe\">\n",
       "  <thead>\n",
       "    <tr>\n",
       "      <th></th>\n",
       "      <th></th>\n",
       "      <th>usage</th>\n",
       "    </tr>\n",
       "    <tr>\n",
       "      <th></th>\n",
       "      <th>start_time</th>\n",
       "      <th>2024-06</th>\n",
       "    </tr>\n",
       "    <tr>\n",
       "      <th>endpoint</th>\n",
       "      <th>interval</th>\n",
       "      <th></th>\n",
       "    </tr>\n",
       "  </thead>\n",
       "  <tbody>\n",
       "    <tr>\n",
       "      <th>/api/integration/v2/comparables/search/advanced</th>\n",
       "      <th>month</th>\n",
       "      <td>0.0</td>\n",
       "    </tr>\n",
       "  </tbody>\n",
       "</table>\n",
       "</div>"
      ],
      "text/plain": [
       "                                                           usage\n",
       "start_time                                               2024-06\n",
       "endpoint                                        interval        \n",
       "/api/integration/v2/comparables/search/advanced month        0.0"
      ]
     },
     "execution_count": 8,
     "metadata": {},
     "output_type": "execute_result"
    }
   ],
   "source": [
    "url = f\"{env.PROXY}/api/backoffice/v1/usage/limits\"\n",
    "\n",
    "headers = {\n",
    "  'Authorization': env.API_KEY,\n",
    "}\n",
    "    \n",
    "response = requests.get(url, headers=headers)\n",
    "\n",
    "df = pd.DataFrame(response.json(),)\n",
    "\n",
    "(df.pivot(columns=['start_time'], index=['endpoint', 'interval'], values=['usage']) * 100).round()"
   ]
  }
 ],
 "metadata": {
  "kernelspec": {
   "display_name": "Python 3 (ipykernel)",
   "language": "python",
   "name": "python3"
  },
  "language_info": {
   "codemirror_mode": {
    "name": "ipython",
    "version": 3
   },
   "file_extension": ".py",
   "mimetype": "text/x-python",
   "name": "python",
   "nbconvert_exporter": "python",
   "pygments_lexer": "ipython3",
   "version": "3.10.13"
  }
 },
 "nbformat": 4,
 "nbformat_minor": 5
}
