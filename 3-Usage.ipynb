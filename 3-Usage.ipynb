{
 "cells": [
  {
   "cell_type": "markdown",
   "id": "3162f0ea-09cb-4501-8512-0fdc345e1a8f",
   "metadata": {},
   "source": [
    "## Checking usage by month"
   ]
  },
  {
   "cell_type": "code",
   "execution_count": null,
   "id": "12fea52d-df87-4a84-be69-cf236733b188",
   "metadata": {},
   "outputs": [],
   "source": [
    "import requests\n",
    "import json\n",
    "import uuid\n",
    "\n",
    "import pandas as pd\n",
    "\n",
    "from settings import env\n",
    "\n",
    "url = f\"{env.PROXY}/api/backoffice/v1/usage/month/company\"\n",
    "\n",
    "headers = {\n",
    "  'Authorization': env.API_KEY,\n",
    "}\n",
    "\n",
    "# filter by email and/or endpoint using regex / like query\n",
    "params = dict(\n",
    "    endpoint='integration*',\n",
    ")\n",
    "    \n",
    "response = requests.get(url, headers=headers, params=params)\n",
    "\n",
    "df = pd.DataFrame(response.json(),)\n",
    "\n",
    "df.set_index(['entity', 'interval', 'endpoint', 'start_time']).unstack('start_time')"
   ]
  },
  {
   "cell_type": "markdown",
   "id": "6722f4f8-5b34-4745-91a2-9fc0aa18d2c0",
   "metadata": {},
   "source": [
    "## Check usage limits"
   ]
  },
  {
   "cell_type": "code",
   "execution_count": null,
   "id": "4c81bbbf-98fc-4f02-a246-0ef1ac5a1fd4",
   "metadata": {},
   "outputs": [],
   "source": [
    "url = f\"{env.PROXY}/api/backoffice/v1/usage/limits\"\n",
    "\n",
    "headers = {\n",
    "  'Authorization': env.API_KEY,\n",
    "}\n",
    "    \n",
    "response = requests.get(url, headers=headers)\n",
    "\n",
    "df = pd.DataFrame(response.json(),)\n",
    "\n",
    "(df.pivot(columns=['start_time'], index=['endpoint', 'interval'], values=['usage']) * 100).round()"
   ]
  }
 ],
 "metadata": {
  "kernelspec": {
   "display_name": "Python 3 (ipykernel)",
   "language": "python",
   "name": "python3"
  },
  "language_info": {
   "codemirror_mode": {
    "name": "ipython",
    "version": 3
   },
   "file_extension": ".py",
   "mimetype": "text/x-python",
   "name": "python",
   "nbconvert_exporter": "python",
   "pygments_lexer": "ipython3",
   "version": "3.10.13"
  }
 },
 "nbformat": 4,
 "nbformat_minor": 5
}
